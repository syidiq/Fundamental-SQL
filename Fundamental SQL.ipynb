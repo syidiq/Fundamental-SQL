{
 "cells": [
  {
   "cell_type": "markdown",
   "metadata": {},
   "source": [
    "# Fundamental SQL"
   ]
  },
  {
   "cell_type": "code",
   "execution_count": 1,
   "metadata": {},
   "outputs": [
    {
     "ename": "SyntaxError",
     "evalue": "invalid syntax (<ipython-input-1-943b4bfba2f3>, line 1)",
     "output_type": "error",
     "traceback": [
      "\u001b[1;36m  File \u001b[1;32m\"<ipython-input-1-943b4bfba2f3>\"\u001b[1;36m, line \u001b[1;32m1\u001b[0m\n\u001b[1;33m    SELECT * FROM ms_produk;\u001b[0m\n\u001b[1;37m                  ^\u001b[0m\n\u001b[1;31mSyntaxError\u001b[0m\u001b[1;31m:\u001b[0m invalid syntax\n"
     ]
    }
   ],
   "source": [
    "SELECT * FROM ms_produk;"
   ]
  },
  {
   "cell_type": "code",
   "execution_count": null,
   "metadata": {},
   "outputs": [],
   "source": [
    "+---------+-------------+------------------------------------+--------+\n",
    "| no_urut | kode_produk | nama_produk                        | harga  |\n",
    "+---------+-------------+------------------------------------+--------+\n",
    "|       1 | prod-01     | Kotak Pensil DQLab                 |  62500 |\n",
    "|       2 | prod-02     | Flashdisk DQLab 64 GB              |  55000 |\n",
    "|       3 | prod-03     | Gift Voucher DQLab 100rb           | 100000 |\n",
    "|       4 | prod-04     | Flashdisk DQLab 32 GB              |  40000 |\n",
    "|       5 | prod-05     | Gift Voucher DQLab 250rb           | 250000 |\n",
    "|       6 | prod-06     | Pulpen Multifunction + Laser DQLab |  92500 |\n",
    "|       7 | prod-07     | Tas Travel Organizer DQLab         |  48000 |\n",
    "|       8 | prod-08     | Gantungan Kunci DQLab              |  15800 |\n",
    "|       9 | prod-09     | Buku Planner Agenda DQLab          |  92000 |\n",
    "|      10 | prod-10     | Sticky Notes DQLab 500 sheets      |  55000 |\n",
    "+---------+-------------+------------------------------------+--------+"
   ]
  }
 ],
 "metadata": {
  "kernelspec": {
   "display_name": "Python 3",
   "language": "python",
   "name": "python3"
  },
  "language_info": {
   "codemirror_mode": {
    "name": "ipython",
    "version": 3
   },
   "file_extension": ".py",
   "mimetype": "text/x-python",
   "name": "python",
   "nbconvert_exporter": "python",
   "pygments_lexer": "ipython3",
   "version": "3.8.5"
  }
 },
 "nbformat": 4,
 "nbformat_minor": 4
}
